{
 "cells": [
  {
   "cell_type": "code",
   "execution_count": 1,
   "metadata": {},
   "outputs": [],
   "source": [
    "                                               #THEORETICAL QUESTIONS\n",
    "\n",
    "\n",
    "\n",
    "# 1. Explain the purpose and advantages of NumPy in scientific computing and data analysis. How does it \n",
    "#enhance Python's capabilities for numerical operations\n",
    "\n",
    "#Purpose of NumPy\n",
    "#Handling Arrays: Think of NumPy as a way to work with lists of numbers more effectively. \n",
    "# Instead of using regular lists, you can use NumPy arrays, which are designed specifically for numerical data.\n",
    "\n",
    "#Mathematical Functions: NumPy comes with a lot of built-in math tools.\n",
    "# You can do things like add, subtract, multiply, or find averages quickly and easily.\n",
    "\n",
    "#Building Block: Many other libraries in data science, like Pandas for data manipulation or Matplotlib for plotting, rely on NumPy.\n",
    "#  It acts as a foundation that makes these other tools work better.\n",
    "\n",
    "\n",
    "\n",
    "\n",
    "#Advantages of NumPy\n",
    "#Speed: NumPy is faster than regular Python when it comes to math. It can handle large amounts of data quickly,\n",
    "#  which is great when you’re working with big datasets.\n",
    "#Less Memory Usage: NumPy arrays use less memory compared to standard Python lists, \n",
    "# so you can store more data without slowing down your computer.\n",
    "#Easy to Use: NumPy has a simple and clear syntax.\n",
    "#  You can perform complex calculations with just a few lines of code, making your work easier.\n",
    "#Smart Indexing: NumPy lets you access and manipulate data in clever ways.\n",
    "#  You can easily grab specific parts of your data without a hassle.\n"
   ]
  },
  {
   "cell_type": "code",
   "execution_count": 2,
   "metadata": {},
   "outputs": [
    {
     "data": {
      "text/plain": [
       "np.float64(3.0)"
      ]
     },
     "execution_count": 2,
     "metadata": {},
     "output_type": "execute_result"
    }
   ],
   "source": [
    "# 2. Compare and contrast np.mean() and np.average() functions in NumPy. When would you use one over the \n",
    "#other?\n",
    "\n",
    "#np.mean()\n",
    "#This function calculates the average of all the numbers in a list or array.\n",
    "#ex: \n",
    "x = [1,2,3,4,5]\n",
    "import numpy as np\n",
    "np.mean(x)"
   ]
  },
  {
   "cell_type": "code",
   "execution_count": 5,
   "metadata": {},
   "outputs": [
    {
     "data": {
      "text/plain": [
       "np.float64(3.5555555555555554)"
      ]
     },
     "execution_count": 5,
     "metadata": {},
     "output_type": "execute_result"
    }
   ],
   "source": [
    "#np.average()\n",
    "#his function also calculates an average,\n",
    "#  but it has a special feature: you can give it weights. This means some numbers can count more than others.\n",
    "#ex:\n",
    "np.average(x , weights= [1,2,1,1,4])"
   ]
  },
  {
   "cell_type": "code",
   "execution_count": 7,
   "metadata": {},
   "outputs": [],
   "source": [
    "# 3. Describe the methods for reversing a NumPy array along different axes. Provide examples for 1D and 2D arrays\n",
    "\n",
    "#using 1d array\n",
    "\n",
    "x = [1,2,3,4,5,5,6,6,7]\n",
    "array1 = np.array(x)"
   ]
  },
  {
   "cell_type": "code",
   "execution_count": 11,
   "metadata": {},
   "outputs": [
    {
     "data": {
      "text/plain": [
       "array([7, 6, 6, 5, 5, 4, 3, 2, 1])"
      ]
     },
     "execution_count": 11,
     "metadata": {},
     "output_type": "execute_result"
    }
   ],
   "source": [
    "array1[::-1]"
   ]
  },
  {
   "cell_type": "code",
   "execution_count": 24,
   "metadata": {},
   "outputs": [],
   "source": [
    "\n",
    "#using 2d array\n",
    " \n",
    "array_2d = np.array([[1, 2, 3],\n",
    "                     [4, 5, 6],\n",
    "                     [7, 8, 9]])\n",
    "\n"
   ]
  },
  {
   "cell_type": "code",
   "execution_count": 25,
   "metadata": {},
   "outputs": [
    {
     "data": {
      "text/plain": [
       "array([[7, 8, 9],\n",
       "       [4, 5, 6],\n",
       "       [1, 2, 3]])"
      ]
     },
     "execution_count": 25,
     "metadata": {},
     "output_type": "execute_result"
    }
   ],
   "source": [
    "array_2d[::-1]"
   ]
  },
  {
   "cell_type": "code",
   "execution_count": 26,
   "metadata": {},
   "outputs": [
    {
     "data": {
      "text/plain": [
       "array([[3, 2, 1],\n",
       "       [6, 5, 4],\n",
       "       [9, 8, 7]])"
      ]
     },
     "execution_count": 26,
     "metadata": {},
     "output_type": "execute_result"
    }
   ],
   "source": [
    "array_2d[:,::-1]"
   ]
  },
  {
   "cell_type": "code",
   "execution_count": 27,
   "metadata": {},
   "outputs": [
    {
     "data": {
      "text/plain": [
       "dtype('int64')"
      ]
     },
     "execution_count": 27,
     "metadata": {},
     "output_type": "execute_result"
    }
   ],
   "source": [
    "#4. How can you determine the data type of elements in a NumPy array? Discuss the importance of data types \n",
    "#in memory management and performance.\n",
    "\n",
    "#We can determine the data type of elements using .dtype\n",
    "array1.dtype"
   ]
  },
  {
   "cell_type": "code",
   "execution_count": 29,
   "metadata": {},
   "outputs": [],
   "source": [
    "#Importance of Data Types\n",
    "#1.Memory Management:\n",
    "# Different data types consume different amounts of memory.\n",
    "# For example, an int32 takes up 4 bytes, while an int64 takes up 8 bytes.\n",
    "#Choosing the appropriate data type can save memory, especially when dealing with large datasets\n",
    "\n",
    "#2.Performance:\n",
    "#The choice of data type can also impact performance.\n",
    "#Operations on smaller data types can be faster due to reduced memory bandwidth requirements and cache usage."
   ]
  },
  {
   "cell_type": "code",
   "execution_count": 31,
   "metadata": {},
   "outputs": [],
   "source": [
    "#5. Define ndarrays in NumPy and explain their key features. How do they differ from standard Python lists\n",
    "\n",
    "#ndarrays>> n dimensional array\n",
    "\n",
    "\n",
    "#Key Features of ndarrays\n",
    "#Homogeneous Data\n",
    "#Multi-dimensional:\n",
    "#Fixed Size\n",
    "#Efficient Memory Usage\n",
    "#Fast Operationss \n",
    "\n",
    "\n",
    "#Differences from Standard Python Lists\n",
    "\n",
    "#in ndarray all the data must be homogenous , but in python lists it can be any data type\n",
    "# in ndarray numerical computations are faster , but in lists it is slower\n",
    "#in ndarrays more memory-efficient due to contiguous storage and fixed size , but Python Lists: More memory overhead since they store references to objects and can dynamically resize.\n",
    "\n"
   ]
  },
  {
   "cell_type": "code",
   "execution_count": 1,
   "metadata": {},
   "outputs": [],
   "source": [
    "#6. Analyze the performance benefits of NumPy arrays over Python lists for large-scale numerical operations\n",
    "\n",
    "#NumPy arrays offer several performance benefits over Python lists, \n",
    "# especially for large-scale numerical operations. Here are the key advantages:\n",
    "\n",
    "# Memory Efficiency\n",
    "#Performance and Speed\n",
    "#Convenient Functions and Operations\n",
    "#Parallelization\n",
    "#Integration with Other Libraries\n",
    "\n"
   ]
  },
  {
   "cell_type": "code",
   "execution_count": 4,
   "metadata": {},
   "outputs": [
    {
     "name": "stdout",
     "output_type": "stream",
     "text": [
      "Result of vstack:\n",
      "[[1 2]\n",
      " [3 4]\n",
      " [5 6]\n",
      " [7 8]]\n"
     ]
    }
   ],
   "source": [
    "# 7. Compare vstack() and hstack() functions in NumPy. Provide examples demonstrating their usage and output\n",
    "\n",
    "#In NumPy, the vstack() and hstack() functions are used to stack arrays vertically and horizontally\n",
    "#Example of vstack():\n",
    "\n",
    "import numpy as np\n",
    "\n",
    "a1 = np.array([[1, 2], [3, 4]])\n",
    "a2 = np.array([[5, 6], [7, 8]])\n",
    "\n",
    "result_vstack = np.vstack((a1, a2))\n",
    "\n",
    "print(\"Result of vstack:\")\n",
    "print(result_vstack)\n"
   ]
  },
  {
   "cell_type": "code",
   "execution_count": 5,
   "metadata": {},
   "outputs": [
    {
     "name": "stdout",
     "output_type": "stream",
     "text": [
      "Result of hstack:\n",
      "[[1 2 5 6]\n",
      " [3 4 7 8]]\n"
     ]
    }
   ],
   "source": [
    "#Example of hstack():\n",
    "\n",
    "result_hstack = np.hstack((a1, a2))\n",
    "\n",
    "print(\"Result of hstack:\")\n",
    "print(result_hstack)\n"
   ]
  },
  {
   "cell_type": "code",
   "execution_count": 10,
   "metadata": {},
   "outputs": [
    {
     "name": "stdout",
     "output_type": "stream",
     "text": [
      "[[4 3 2 1]]\n"
     ]
    }
   ],
   "source": [
    "# 8. Explain the differences between fliplr() and flipud() methods in NumPy, including their effects on various array dimensions\n",
    "\n",
    "#fliplr(): Flips arrays horizontally (left to right).\n",
    "#flipud(): Flips arrays vertically (up to down).\n",
    "\n",
    "#1D Arrays:\n",
    "#Both functions effectively reverse the array in 1D array\n",
    "#ex:\n",
    "\n",
    "array_1d = np.array([[1, 2, 3, 4]])\n",
    "print(np.fliplr(array_1d))  "
   ]
  },
  {
   "cell_type": "code",
   "execution_count": 11,
   "metadata": {},
   "outputs": [
    {
     "name": "stdout",
     "output_type": "stream",
     "text": [
      "Flipping left to right:\n",
      "[[[3 4]\n",
      "  [1 2]]\n",
      "\n",
      " [[7 8]\n",
      "  [5 6]]]\n",
      "\n",
      "Flipping up to down:\n",
      "[[[5 6]\n",
      "  [7 8]]\n",
      "\n",
      " [[1 2]\n",
      "  [3 4]]]\n"
     ]
    }
   ],
   "source": [
    "#Higher-Dimensional Arrays:\n",
    "\n",
    "array_3d = np.array([[[1, 2], [3, 4]],\n",
    "                     [[5, 6], [7, 8]]])\n",
    "\n",
    "print(\"Flipping left to right:\")\n",
    "print(np.fliplr(array_3d))\n",
    "\n",
    "print(\"\\nFlipping up to down:\")\n",
    "print(np.flipud(array_3d))"
   ]
  },
  {
   "cell_type": "code",
   "execution_count": 14,
   "metadata": {},
   "outputs": [
    {
     "data": {
      "text/plain": [
       "[array([[1, 2, 3],\n",
       "        [4, 5, 6]]),\n",
       " array([[7, 8, 9]])]"
      ]
     },
     "execution_count": 14,
     "metadata": {},
     "output_type": "execute_result"
    }
   ],
   "source": [
    "# 9. Discuss the functionality of the array_split() method in NumPy. How does it handle uneven splits?\n",
    "\n",
    "#array_split() is useful for dividing arrays into a specified number of sections,\n",
    "#allowing for uneven splits when necessary.\n",
    "\n",
    "#array_split() can also be applied to multi-dimensional arrays by specifying the axis along which to split:\n",
    "\n",
    "\n",
    "array_2d = np.array([[1, 2, 3],\n",
    "                     [4, 5, 6],\n",
    "                     [7, 8, 9]])\n",
    "\n",
    "split_2d = np.array_split(array_2d, 2, axis=0)\n",
    "\n",
    "split_2d"
   ]
  },
  {
   "cell_type": "code",
   "execution_count": 15,
   "metadata": {},
   "outputs": [],
   "source": [
    "#10. Explain the concepts of vectorization and broadcasting in NumPy. How do they contribute to efficient array \n",
    "#operations?\n",
    "\n",
    "#Vectorization refers to the ability to perform operations on entire arrays \n",
    "# or large blocks of data at once, rather than using explicit loops in Python.\n",
    "\n",
    "\n",
    "#Broadcasting is a powerful mechanism that allows NumPy to perform operations on arrays of different shapes and sizes.\n",
    "#  When performing operations between two arrays, \n",
    "# NumPy automatically expands the smaller array to match the shape of the larger one, following specific rules.\n",
    "\n",
    "#Together, these concepts contribute significantly to the efficiency of array operations in NumPy, \n",
    "# making it a powerful tool for numerical computing and data analysis.\n",
    "\n",
    "\n",
    "\n"
   ]
  },
  {
   "cell_type": "code",
   "execution_count": 28,
   "metadata": {},
   "outputs": [],
   "source": [
    "                                                     #PRACTICAL QUESTIONS\n",
    "\n",
    "# 1. Create a 3x3 NumPy array with random integers between 1 and 100. Then, interchange its rows and columns.\n",
    "\n",
    "A = np.array(np.random.randint (1,100,(3,3)) )"
   ]
  },
  {
   "cell_type": "code",
   "execution_count": 30,
   "metadata": {},
   "outputs": [
    {
     "data": {
      "text/plain": [
       "array([[41, 57, 77],\n",
       "       [91, 91, 68],\n",
       "       [31, 38, 41]], dtype=int32)"
      ]
     },
     "execution_count": 30,
     "metadata": {},
     "output_type": "execute_result"
    }
   ],
   "source": [
    "A"
   ]
  },
  {
   "cell_type": "code",
   "execution_count": 31,
   "metadata": {},
   "outputs": [
    {
     "data": {
      "text/plain": [
       "array([[41, 91, 31],\n",
       "       [57, 91, 38],\n",
       "       [77, 68, 41]], dtype=int32)"
      ]
     },
     "execution_count": 31,
     "metadata": {},
     "output_type": "execute_result"
    }
   ],
   "source": [
    "A.T"
   ]
  },
  {
   "cell_type": "code",
   "execution_count": 33,
   "metadata": {},
   "outputs": [],
   "source": [
    "#2. Generate a 1D NumPy array with 10 elements. Reshape it into a 2x5 array, then into a 5x2 array\n",
    "\n",
    "array_1D = np.array([1,2,3,4,5,6,7,8,9,10])"
   ]
  },
  {
   "cell_type": "code",
   "execution_count": 35,
   "metadata": {},
   "outputs": [
    {
     "data": {
      "text/plain": [
       "array([[ 1,  2,  3,  4,  5],\n",
       "       [ 6,  7,  8,  9, 10]])"
      ]
     },
     "execution_count": 35,
     "metadata": {},
     "output_type": "execute_result"
    }
   ],
   "source": [
    "array_1D.reshape(2,5)"
   ]
  },
  {
   "cell_type": "code",
   "execution_count": 36,
   "metadata": {},
   "outputs": [
    {
     "data": {
      "text/plain": [
       "array([[ 1,  2],\n",
       "       [ 3,  4],\n",
       "       [ 5,  6],\n",
       "       [ 7,  8],\n",
       "       [ 9, 10]])"
      ]
     },
     "execution_count": 36,
     "metadata": {},
     "output_type": "execute_result"
    }
   ],
   "source": [
    "array_1D.reshape(5,2)"
   ]
  },
  {
   "cell_type": "code",
   "execution_count": 84,
   "metadata": {},
   "outputs": [],
   "source": [
    "# 3. Create a 4x4 NumPy array with random float values. Add a border of zeros around it, resulting in a 6x6 array.\n",
    "\n",
    "\n",
    "array_4x4 = np.array(np.random.rand(4,4))\n",
    "array_6x6 = np.pad(array_4x4, pad_width=1, mode='constant', constant_values=0)"
   ]
  },
  {
   "cell_type": "code",
   "execution_count": 85,
   "metadata": {},
   "outputs": [
    {
     "data": {
      "text/plain": [
       "array([[0.        , 0.        , 0.        , 0.        , 0.        ,\n",
       "        0.        ],\n",
       "       [0.        , 0.50633003, 0.52866749, 0.80569607, 0.35980047,\n",
       "        0.        ],\n",
       "       [0.        , 0.33499204, 0.84063313, 0.75096541, 0.50437796,\n",
       "        0.        ],\n",
       "       [0.        , 0.30228275, 0.86103142, 0.0383436 , 0.77324364,\n",
       "        0.        ],\n",
       "       [0.        , 0.33871265, 0.0189229 , 0.64991361, 0.86096471,\n",
       "        0.        ],\n",
       "       [0.        , 0.        , 0.        , 0.        , 0.        ,\n",
       "        0.        ]])"
      ]
     },
     "execution_count": 85,
     "metadata": {},
     "output_type": "execute_result"
    }
   ],
   "source": [
    "array_6x6"
   ]
  },
  {
   "cell_type": "code",
   "execution_count": 91,
   "metadata": {},
   "outputs": [],
   "source": [
    "#4. Using NumPy, create an array of integers from 10 to 60 with a step of 5\n",
    "\n",
    "\n",
    "array = np.array(np.arange(10,60,5))"
   ]
  },
  {
   "cell_type": "code",
   "execution_count": 92,
   "metadata": {},
   "outputs": [
    {
     "data": {
      "text/plain": [
       "array([10, 15, 20, 25, 30, 35, 40, 45, 50, 55])"
      ]
     },
     "execution_count": 92,
     "metadata": {},
     "output_type": "execute_result"
    }
   ],
   "source": [
    "array"
   ]
  },
  {
   "cell_type": "code",
   "execution_count": 94,
   "metadata": {},
   "outputs": [],
   "source": [
    "# 5. Create a NumPy array of strings ['python', 'numpy', 'pandas']. Apply different case transformations \n",
    "#(uppercase, lowercase, title case, etc.) to each element\n",
    "\n",
    "array11 =  np.array(['python', 'numpy','pandas'])\n"
   ]
  },
  {
   "cell_type": "code",
   "execution_count": 97,
   "metadata": {},
   "outputs": [
    {
     "data": {
      "text/plain": [
       "array(['PYTHON', 'NUMPY', 'PANDAS'], dtype='<U6')"
      ]
     },
     "execution_count": 97,
     "metadata": {},
     "output_type": "execute_result"
    }
   ],
   "source": [
    "np.char.upper(array11)"
   ]
  },
  {
   "cell_type": "code",
   "execution_count": 98,
   "metadata": {},
   "outputs": [
    {
     "data": {
      "text/plain": [
       "array(['python', 'numpy', 'pandas'], dtype='<U6')"
      ]
     },
     "execution_count": 98,
     "metadata": {},
     "output_type": "execute_result"
    }
   ],
   "source": [
    "np.char.lower(array11)"
   ]
  },
  {
   "cell_type": "code",
   "execution_count": 99,
   "metadata": {},
   "outputs": [
    {
     "data": {
      "text/plain": [
       "array(['Python', 'Numpy', 'Pandas'], dtype='<U6')"
      ]
     },
     "execution_count": 99,
     "metadata": {},
     "output_type": "execute_result"
    }
   ],
   "source": [
    "np.char.capitalize(array11)"
   ]
  },
  {
   "cell_type": "code",
   "execution_count": 100,
   "metadata": {},
   "outputs": [
    {
     "name": "stdout",
     "output_type": "stream",
     "text": [
      "Original array of words:\n",
      "['Abhay' 'Virat kohli' 'Darshan' 'pw']\n",
      "\n",
      "Array with spaces between characters:\n",
      "['A b h a y' 'V i r a t   k o h l i' 'D a r s h a n' 'p w']\n"
     ]
    }
   ],
   "source": [
    "# 6. Generate a NumPy array of words. Insert a space between each character of every word in the array\n",
    "\n",
    "words = np.array([\"Abhay\",\"Virat kohli\",\"Darshan\",\"pw\"])\n",
    "\n",
    "spaced_words = np.array([' '.join(word) for word in words])\n",
    "\n",
    "print(\"Original array of words:\")\n",
    "print(words)\n",
    "\n",
    "print(\"\\nArray with spaces between characters:\")\n",
    "print(spaced_words)\n"
   ]
  },
  {
   "cell_type": "code",
   "execution_count": 104,
   "metadata": {},
   "outputs": [],
   "source": [
    "# 7. Create two 2D NumPy arrays and perform element-wise addition, subtraction, multiplication, and division\n",
    "\n",
    "a = np.array([[1,2,3,4,5]])\n",
    "b = np.array([[6,7,8,9,10]])\n"
   ]
  },
  {
   "cell_type": "code",
   "execution_count": 105,
   "metadata": {},
   "outputs": [
    {
     "data": {
      "text/plain": [
       "array([[ 7,  9, 11, 13, 15]])"
      ]
     },
     "execution_count": 105,
     "metadata": {},
     "output_type": "execute_result"
    }
   ],
   "source": [
    "a+b"
   ]
  },
  {
   "cell_type": "code",
   "execution_count": 106,
   "metadata": {},
   "outputs": [
    {
     "data": {
      "text/plain": [
       "array([[-5, -5, -5, -5, -5]])"
      ]
     },
     "execution_count": 106,
     "metadata": {},
     "output_type": "execute_result"
    }
   ],
   "source": [
    "a-b"
   ]
  },
  {
   "cell_type": "code",
   "execution_count": 107,
   "metadata": {},
   "outputs": [
    {
     "data": {
      "text/plain": [
       "array([[ 6, 14, 24, 36, 50]])"
      ]
     },
     "execution_count": 107,
     "metadata": {},
     "output_type": "execute_result"
    }
   ],
   "source": [
    "a*b"
   ]
  },
  {
   "cell_type": "code",
   "execution_count": 108,
   "metadata": {},
   "outputs": [
    {
     "data": {
      "text/plain": [
       "array([[0.16666667, 0.28571429, 0.375     , 0.44444444, 0.5       ]])"
      ]
     },
     "execution_count": 108,
     "metadata": {},
     "output_type": "execute_result"
    }
   ],
   "source": [
    "a/b"
   ]
  },
  {
   "cell_type": "code",
   "execution_count": 110,
   "metadata": {},
   "outputs": [],
   "source": [
    "# 8. Use NumPy to create a 5x5 identity matrix, then extract its diagonal elements\n",
    "\n",
    "array_5x5 = np.eye(5)"
   ]
  },
  {
   "cell_type": "code",
   "execution_count": 113,
   "metadata": {},
   "outputs": [
    {
     "data": {
      "text/plain": [
       "array([[1., 0., 0., 0., 0.],\n",
       "       [0., 1., 0., 0., 0.],\n",
       "       [0., 0., 1., 0., 0.],\n",
       "       [0., 0., 0., 1., 0.],\n",
       "       [0., 0., 0., 0., 1.]])"
      ]
     },
     "execution_count": 113,
     "metadata": {},
     "output_type": "execute_result"
    }
   ],
   "source": [
    "array_5x5"
   ]
  },
  {
   "cell_type": "code",
   "execution_count": 123,
   "metadata": {},
   "outputs": [
    {
     "data": {
      "text/plain": [
       "(np.float64(1.0),\n",
       " np.float64(1.0),\n",
       " np.float64(1.0),\n",
       " np.float64(1.0),\n",
       " np.float64(1.0))"
      ]
     },
     "execution_count": 123,
     "metadata": {},
     "output_type": "execute_result"
    }
   ],
   "source": [
    "array_5x5[0,0] , array_5x5[1,1] ,array_5x5[2,2] , array_5x5[3,3] ,array_5x5[4,4]\n"
   ]
  },
  {
   "cell_type": "code",
   "execution_count": 130,
   "metadata": {},
   "outputs": [
    {
     "name": "stdout",
     "output_type": "stream",
     "text": [
      "Random integers:\n",
      "[503 104  61 606 120 781 979 964 607 265 521  46 761 718 554 854 776 107\n",
      " 922 762 563 562 352 336 112 816 858 959 322  79 455 374 311 647 331 567\n",
      " 599 441 854 131 188 416 557 917 584 976  54 810 303 108 317 782 861 524\n",
      " 405 529  72 204 551 250 523 595 823 970 400  25 316 589 243 597 827 573\n",
      " 600 310 940 633  58 378 807 366 343 679 734 148 127  95 615 655 891 860\n",
      " 282 153 482 589 345 628 195 636 199 773]\n",
      "\n",
      "Prime numbers in the array:\n",
      "[np.int32(503), np.int32(61), np.int32(607), np.int32(521), np.int32(761), np.int32(107), np.int32(563), np.int32(79), np.int32(311), np.int32(647), np.int32(331), np.int32(599), np.int32(131), np.int32(557), np.int32(317), np.int32(523), np.int32(823), np.int32(827), np.int32(127), np.int32(199), np.int32(773)]\n"
     ]
    }
   ],
   "source": [
    "#9. Generate a NumPy array of 100 random integers between 0 and 1000. Find and display all prime numbers in \n",
    "#this array\n",
    "\n",
    "arr = np.random.randint(1,1001,100 )\n",
    "\n",
    "def is_prime(num):\n",
    "    if num <= 1:\n",
    "        return False\n",
    "    for i in range(2, int(num**0.5) + 1):\n",
    "        if num % i == 0:\n",
    "            return False\n",
    "    return True\n",
    "\n",
    "\n",
    "prime_numbers = [num for num in arr if is_prime(num)]\n",
    "\n",
    "\n",
    "print(\"Random integers:\")\n",
    "print(arr)\n",
    "\n",
    "print(\"\\nPrime numbers in the array:\")\n",
    "print(prime_numbers)\n"
   ]
  },
  {
   "cell_type": "code",
   "execution_count": 132,
   "metadata": {},
   "outputs": [
    {
     "name": "stdout",
     "output_type": "stream",
     "text": [
      "Daily Temperatures for the Month:\n",
      "[24 21 16 16 23 26 20 17 15 19 27 16 16 17 21 15 18 28 15 30 30 17 28 20\n",
      " 18 21 15 26 26 18]\n",
      "\n",
      "Weekly Averages:\n",
      "Week 1: 19.70 °C\n",
      "Week 2: 20.30 °C\n",
      "Week 3: 21.90 °C\n"
     ]
    }
   ],
   "source": [
    "# 10. Create a NumPy array representing daily temperatures for a month. Calculate and display the weekly \n",
    "#averages\n",
    "\n",
    "\n",
    "daily_temperatures = np.random.randint(15, 31, size=30)\n",
    "\n",
    "weekly_temperatures = daily_temperatures.reshape(3,10)\n",
    "\n",
    "weekly_averages = np.mean(weekly_temperatures, axis=1)\n",
    "\n",
    "\n",
    "print(\"Daily Temperatures for the Month:\")\n",
    "print(daily_temperatures)\n",
    "\n",
    "print(\"\\nWeekly Averages:\")\n",
    "for i, avg in enumerate(weekly_averages, start=1):\n",
    "    print(f\"Week {i}: {avg:.2f} °C\")\n"
   ]
  },
  {
   "cell_type": "code",
   "execution_count": null,
   "metadata": {},
   "outputs": [],
   "source": []
  }
 ],
 "metadata": {
  "kernelspec": {
   "display_name": "Python 3",
   "language": "python",
   "name": "python3"
  },
  "language_info": {
   "codemirror_mode": {
    "name": "ipython",
    "version": 3
   },
   "file_extension": ".py",
   "mimetype": "text/x-python",
   "name": "python",
   "nbconvert_exporter": "python",
   "pygments_lexer": "ipython3",
   "version": "3.11.9"
  }
 },
 "nbformat": 4,
 "nbformat_minor": 2
}
